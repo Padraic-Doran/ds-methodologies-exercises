{
 "cells": [
  {
   "cell_type": "code",
   "execution_count": 1,
   "metadata": {},
   "outputs": [],
   "source": [
    "import pandas as pd\n",
    "import re\n",
    "import numpy as np"
   ]
  },
  {
   "cell_type": "code",
   "execution_count": 2,
   "metadata": {},
   "outputs": [
    {
     "data": {
      "text/plain": [
       "(True, False, True, False)"
      ]
     },
     "execution_count": 2,
     "metadata": {},
     "output_type": "execute_result"
    }
   ],
   "source": [
    "def is_vowel(letter):\n",
    "    vowel_re = r'[aeiou]' # write your regex here\n",
    "    return bool(re.search(vowel_re, letter))\n",
    "\n",
    "is_vowel('a'), is_vowel('b'), is_vowel('e'), is_vowel('d')"
   ]
  },
  {
   "cell_type": "code",
   "execution_count": 22,
   "metadata": {},
   "outputs": [
    {
     "name": "stdout",
     "output_type": "stream",
     "text": [
      "is_valid_username | username\n",
      "----------------- | --------\n",
      "            False | aaaaaaaaaaaaaaaaaaaaaaaaaaaaaaaaa\n",
      "             True | codeup\n",
      "            False | Codeup\n",
      "             True | codeup123\n",
      "            False | 1codeup\n"
     ]
    }
   ],
   "source": [
    "def is_valid_username(username):\n",
    "    username_re = r'^[^\\d A-Z][^A-Z]{1,31}$' # write your regex here\n",
    "    return bool(re.search(username_re, username))\n",
    "\n",
    "usernames = ['aaaaaaaaaaaaaaaaaaaaaaaaaaaaaaaaa', 'codeup', 'Codeup', 'codeup123', '1codeup']\n",
    "print('is_valid_username | username')\n",
    "print('----------------- | --------')\n",
    "for username in usernames:\n",
    "    print('%17s | %s' % (is_valid_username(username), username))"
   ]
  },
  {
   "cell_type": "code",
   "execution_count": 4,
   "metadata": {},
   "outputs": [
    {
     "data": {
      "text/html": [
       "<div>\n",
       "<style scoped>\n",
       "    .dataframe tbody tr th:only-of-type {\n",
       "        vertical-align: middle;\n",
       "    }\n",
       "\n",
       "    .dataframe tbody tr th {\n",
       "        vertical-align: top;\n",
       "    }\n",
       "\n",
       "    .dataframe thead th {\n",
       "        text-align: right;\n",
       "    }\n",
       "</style>\n",
       "<table border=\"1\" class=\"dataframe\">\n",
       "  <thead>\n",
       "    <tr style=\"text-align: right;\">\n",
       "      <th></th>\n",
       "      <th>phone_number</th>\n",
       "      <th>regexp_matches</th>\n",
       "    </tr>\n",
       "  </thead>\n",
       "  <tbody>\n",
       "    <tr>\n",
       "      <th>0</th>\n",
       "      <td>(210) 867 5309</td>\n",
       "      <td>True</td>\n",
       "    </tr>\n",
       "    <tr>\n",
       "      <th>1</th>\n",
       "      <td>+1 210.867.5309</td>\n",
       "      <td>True</td>\n",
       "    </tr>\n",
       "    <tr>\n",
       "      <th>2</th>\n",
       "      <td>867-5309</td>\n",
       "      <td>False</td>\n",
       "    </tr>\n",
       "    <tr>\n",
       "      <th>3</th>\n",
       "      <td>210-867-5309</td>\n",
       "      <td>True</td>\n",
       "    </tr>\n",
       "  </tbody>\n",
       "</table>\n",
       "</div>"
      ],
      "text/plain": [
       "      phone_number  regexp_matches\n",
       "0   (210) 867 5309            True\n",
       "1  +1 210.867.5309            True\n",
       "2         867-5309           False\n",
       "3     210-867-5309            True"
      ]
     },
     "execution_count": 4,
     "metadata": {},
     "output_type": "execute_result"
    }
   ],
   "source": [
    "phone_numbers = pd.Series([\n",
    "    '(210) 867 5309',\n",
    "    '+1 210.867.5309',\n",
    "    '867-5309',\n",
    "    '210-867-5309',\n",
    "])\n",
    "\n",
    "phone_number_re = r'^(\\+\\d{1,2}\\s)?\\(?\\d{3}\\)?[\\s.-]?\\d{3}[\\s.-]\\d{4}$' # TODO\n",
    "\n",
    "pd.DataFrame({\n",
    "    'phone_number': phone_numbers,\n",
    "    'regexp_matches': phone_numbers.str.match(phone_number_re)\n",
    "})"
   ]
  },
  {
   "cell_type": "code",
   "execution_count": null,
   "metadata": {},
   "outputs": [],
   "source": [
    "phone_numbers = pd.Series([\n",
    "    '(210) 867 5309',\n",
    "    '+1 210.867.5309',\n",
    "    '867-5309',\n",
    "    '210-867-5309',\n",
    "])\n",
    "\n",
    "phone_number_re = re.compile(r'''\n",
    "^\n",
    "(?P<calling_code>\\+\\d+)?\n",
    "\\D*?\n",
    "(?P<area_code>\\d{3})?\n",
    "\\D*?\n",
    "(?P<first_three>\\d{3})\n",
    "\\D*?\n",
    "(?P<last_four>\\d{4})\n",
    "\\D*\n",
    "$\n",
    "''', re.VERBOSE)\n",
    "\n",
    "pd.DataFrame({\n",
    "    'phone_number': phone_numbers,\n",
    "    'regexp_matches': phone_numbers.str.match(phone_number_re)\n",
    "})"
   ]
  },
  {
   "cell_type": "code",
   "execution_count": 21,
   "metadata": {},
   "outputs": [
    {
     "data": {
      "text/plain": [
       "['19/02/04',\n",
       " '19/02/05',\n",
       " '19/02/06',\n",
       " '19/02/07',\n",
       " '19/02/08',\n",
       " '19/02/09',\n",
       " '19/02/10']"
      ]
     },
     "execution_count": 21,
     "metadata": {},
     "output_type": "execute_result"
    }
   ],
   "source": [
    "dates = pd.Series([\n",
    "    '02/04/19',\n",
    "    '02/05/19',\n",
    "    '02/06/19',\n",
    "    '02/07/19',\n",
    "    '02/08/19',\n",
    "    '02/09/19',\n",
    "    '02/10/19',\n",
    "])\n",
    "# dates = dates.str.replace('/', \" \")\n",
    "# dates.astype(str)\n",
    "\n",
    "def date_fixer(dates):\n",
    "    dates = dates.str.replace('/', \" \")\n",
    "    dates.astype(str)\n",
    "    dates = list(dates)\n",
    "    new_dates = []\n",
    "    for d in dates:\n",
    "        d = re.sub(r'(\\d{2})\\s(\\d{2})\\s(\\d{2})', r'\\3/\\1/\\2',  d)\n",
    "        new_dates.append(d)\n",
    "    return new_dates\n",
    "date_fixer(dates)"
   ]
  },
  {
   "cell_type": "code",
   "execution_count": 23,
   "metadata": {},
   "outputs": [
    {
     "data": {
      "text/plain": [
       "0                     a\n",
       "1                     a\n",
       "2                    aa\n",
       "3                   aal\n",
       "4                 aalii\n",
       "5                   aam\n",
       "6                  aani\n",
       "7              aardvark\n",
       "8              aardwolf\n",
       "9                 aaron\n",
       "10              aaronic\n",
       "11            aaronical\n",
       "12             aaronite\n",
       "13            aaronitic\n",
       "14                 aaru\n",
       "15                   ab\n",
       "16                  aba\n",
       "17              ababdeh\n",
       "18               ababua\n",
       "19                 abac\n",
       "20                abaca\n",
       "21              abacate\n",
       "22               abacay\n",
       "23            abacinate\n",
       "24          abacination\n",
       "25            abaciscus\n",
       "26              abacist\n",
       "27                aback\n",
       "28            abactinal\n",
       "29          abactinally\n",
       "              ...      \n",
       "235856           zymome\n",
       "235857        zymometer\n",
       "235858          zymomin\n",
       "235859        zymophore\n",
       "235860       zymophoric\n",
       "235861    zymophosphate\n",
       "235862        zymophyte\n",
       "235863      zymoplastic\n",
       "235864        zymoscope\n",
       "235865      zymosimeter\n",
       "235866          zymosis\n",
       "235867       zymosterol\n",
       "235868      zymosthenic\n",
       "235869      zymotechnic\n",
       "235870    zymotechnical\n",
       "235871     zymotechnics\n",
       "235872       zymotechny\n",
       "235873          zymotic\n",
       "235874      zymotically\n",
       "235875         zymotize\n",
       "235876        zymotoxic\n",
       "235877          zymurgy\n",
       "235878         zyrenian\n",
       "235879           zyrian\n",
       "235880           zyryan\n",
       "235881           zythem\n",
       "235882           zythia\n",
       "235883           zythum\n",
       "235884          zyzomys\n",
       "235885       zyzzogeton\n",
       "Name: 0, Length: 235884, dtype: object"
      ]
     },
     "execution_count": 23,
     "metadata": {},
     "output_type": "execute_result"
    }
   ],
   "source": [
    "words = pd.read_csv('/usr/share/dict/words', header=None).iloc[:, 0].dropna().str.lower()\n",
    "words"
   ]
  },
  {
   "cell_type": "code",
   "execution_count": 24,
   "metadata": {},
   "outputs": [
    {
     "data": {
      "text/plain": [
       "191365"
      ]
     },
     "execution_count": 24,
     "metadata": {},
     "output_type": "execute_result"
    }
   ],
   "source": [
    "(words.str.count(r'[aeiou]') >= 3).sum()"
   ]
  },
  {
   "cell_type": "code",
   "execution_count": 25,
   "metadata": {},
   "outputs": [
    {
     "data": {
      "text/plain": [
       "6182"
      ]
     },
     "execution_count": 25,
     "metadata": {},
     "output_type": "execute_result"
    }
   ],
   "source": [
    "words.str.match(r'.*[aeiou]{3}').sum()"
   ]
  },
  {
   "cell_type": "code",
   "execution_count": 26,
   "metadata": {},
   "outputs": [
    {
     "data": {
      "text/plain": [
       "3041            aeacides\n",
       "3042              aeacus\n",
       "3043              aeaean\n",
       "3109       aeolharmonica\n",
       "3110              aeolia\n",
       "3111             aeolian\n",
       "3112              aeolic\n",
       "3113           aeolicism\n",
       "3114              aeolid\n",
       "3115            aeolidae\n",
       "3116          aeolididae\n",
       "3117             aeolina\n",
       "3118             aeoline\n",
       "3119           aeolipile\n",
       "3120              aeolis\n",
       "3121             aeolism\n",
       "3122             aeolist\n",
       "3123           aeolistic\n",
       "3124          aeolodicon\n",
       "3125           aeolodion\n",
       "3126      aeolomelodicon\n",
       "3127       aeolopantalon\n",
       "3128         aeolotropic\n",
       "3129        aeolotropism\n",
       "3130          aeolotropy\n",
       "3131        aeolsklavier\n",
       "3132                aeon\n",
       "3133             aeonial\n",
       "3134             aeonian\n",
       "3135             aeonist\n",
       "               ...      \n",
       "65515         euomphalid\n",
       "65516         euomphalus\n",
       "65517             euonym\n",
       "65518           euonymin\n",
       "65519          euonymous\n",
       "65520           euonymus\n",
       "65521            euonymy\n",
       "65522         euornithes\n",
       "65523         euornithic\n",
       "65524       euorthoptera\n",
       "65525           euosmite\n",
       "65526             euouae\n",
       "90469                iao\n",
       "130193               oii\n",
       "131034          ooangium\n",
       "131045           ooecial\n",
       "131046           ooecium\n",
       "131062              ooid\n",
       "131063            ooidal\n",
       "133260           ouabain\n",
       "133261           ouabaio\n",
       "133262             ouabe\n",
       "133263        ouachitite\n",
       "133264           ouakari\n",
       "133265        ouananiche\n",
       "133272           ouenite\n",
       "133278             ouija\n",
       "133279          ouistiti\n",
       "210115             uaupe\n",
       "210173         ueueteotl\n",
       "Name: 0, Length: 78, dtype: object"
      ]
     },
     "execution_count": 26,
     "metadata": {},
     "output_type": "execute_result"
    }
   ],
   "source": [
    "words[words.str.match(r'^[aeiou]{3,}')]"
   ]
  },
  {
   "cell_type": "code",
   "execution_count": 27,
   "metadata": {},
   "outputs": [
    {
     "data": {
      "text/plain": [
       "6182"
      ]
     },
     "execution_count": 27,
     "metadata": {},
     "output_type": "execute_result"
    }
   ],
   "source": [
    "words.str.contains(r'[aeiou]{3}').sum()"
   ]
  },
  {
   "cell_type": "code",
   "execution_count": 28,
   "metadata": {},
   "outputs": [
    {
     "data": {
      "text/plain": [
       "19241"
      ]
     },
     "execution_count": 28,
     "metadata": {},
     "output_type": "execute_result"
    }
   ],
   "source": [
    "words.str.contains(r'[^aeiou]{4}').sum()"
   ]
  },
  {
   "cell_type": "code",
   "execution_count": 29,
   "metadata": {},
   "outputs": [
    {
     "data": {
      "text/plain": [
       "25602       bradysphygmia\n",
       "148220     platyrhynchous\n",
       "6467        amblyrhynchus\n",
       "193541         sulfhydryl\n",
       "115191    methylglycocoll\n",
       "196514        symphyllous\n",
       "25498       brachyphyllum\n",
       "136611        oxyrhynchus\n",
       "78245         glycyrrhiza\n",
       "196706     synchytriaceae\n",
       "Name: 0, dtype: object"
      ]
     },
     "execution_count": 29,
     "metadata": {},
     "output_type": "execute_result"
    }
   ],
   "source": [
    "words[words.str.contains(r'[^aeiou]{8}')].sample(10)"
   ]
  },
  {
   "cell_type": "code",
   "execution_count": 30,
   "metadata": {},
   "outputs": [
    {
     "name": "stderr",
     "output_type": "stream",
     "text": [
      "/usr/local/anaconda3/lib/python3.7/site-packages/ipykernel_launcher.py:1: UserWarning: This pattern has match groups. To actually get the groups, use str.extract.\n",
      "  \"\"\"Entry point for launching an IPython kernel.\n"
     ]
    },
    {
     "data": {
      "text/plain": [
       "11452"
      ]
     },
     "execution_count": 30,
     "metadata": {},
     "output_type": "execute_result"
    }
   ],
   "source": [
    "words.str.contains(r'^(.).*\\1$').sum()"
   ]
  },
  {
   "cell_type": "code",
   "execution_count": 31,
   "metadata": {},
   "outputs": [
    {
     "name": "stderr",
     "output_type": "stream",
     "text": [
      "/usr/local/anaconda3/lib/python3.7/site-packages/ipykernel_launcher.py:1: UserWarning: This pattern has match groups. To actually get the groups, use str.extract.\n",
      "  \"\"\"Entry point for launching an IPython kernel.\n"
     ]
    },
    {
     "data": {
      "text/plain": [
       "895            accessariness\n",
       "906               accessless\n",
       "909            accessoriness\n",
       "2688          admissibleness\n",
       "3879             agelessness\n",
       "3961          aggressiveness\n",
       "4372             aimlessness\n",
       "5432          allagophyllous\n",
       "5482           allegorically\n",
       "5535               allhallow\n",
       "5536           allhallowtide\n",
       "5547              allicholly\n",
       "5587            allochirally\n",
       "5589         allochlorophyll\n",
       "5618           allogenically\n",
       "5639           allopalladium\n",
       "5642        allopathetically\n",
       "5644          allopathically\n",
       "5648          allopatrically\n",
       "5685            allotelluric\n",
       "5690      allothigenetically\n",
       "5708          allotropically\n",
       "6380            ambassadress\n",
       "6794               amissness\n",
       "13881            artlessness\n",
       "14419         assailableness\n",
       "14431               assassin\n",
       "14432            assassinate\n",
       "14433          assassination\n",
       "14434          assassinative\n",
       "                 ...        \n",
       "230247            wallawalla\n",
       "230389          wantlessness\n",
       "230754         watchlessness\n",
       "230804         waterlessness\n",
       "230892          wavelessness\n",
       "230973       waylaidlessness\n",
       "231282        weightlessness\n",
       "231294         weirdlessness\n",
       "231813          whillaballoo\n",
       "231888        whippersnapper\n",
       "232297          wifelessness\n",
       "232396             willfully\n",
       "232517          windlessness\n",
       "232530        windowlessness\n",
       "232611          winglessness\n",
       "232729          wirelessness\n",
       "232837          wistlessness\n",
       "232943           witlessness\n",
       "233229          woodlessness\n",
       "233249              woodroof\n",
       "233288                woohoo\n",
       "233372          wordlessness\n",
       "233419          worklessness\n",
       "233539         worthlessness\n",
       "233685        wretchlessness\n",
       "234557           yellowbelly\n",
       "234559            yellowbill\n",
       "234834         youthlessness\n",
       "235076          zeallessness\n",
       "235683                zoozoo\n",
       "Name: 0, Length: 792, dtype: object"
      ]
     },
     "execution_count": 31,
     "metadata": {},
     "output_type": "execute_result"
    }
   ],
   "source": [
    "\n",
    "words[words.str.contains(r'((.)\\2).*\\1')]"
   ]
  },
  {
   "cell_type": "code",
   "execution_count": 32,
   "metadata": {},
   "outputs": [
    {
     "data": {
      "text/plain": [
       "0     Mary had a little lamb, little lamb, little lamb\n",
       "1    Hello Bayes! It is a fine morning for regular ...\n",
       "2                      The plural of regex is regrets.\n",
       "3                     Python is a fine, fine language.\n",
       "dtype: object"
      ]
     },
     "execution_count": 32,
     "metadata": {},
     "output_type": "execute_result"
    }
   ],
   "source": [
    "# can we detect sentences with duplicated words? a word being 3 or more characters long\n",
    "sentences = pd.Series([\n",
    "    'Mary had a little lamb, little lamb, little lamb',\n",
    "    'Hello Bayes! It is a fine morning for regular expressions.',\n",
    "    'The plural of regex is regrets.',\n",
    "    'Python is a fine, fine language.'\n",
    "])\n",
    "sentences"
   ]
  },
  {
   "cell_type": "code",
   "execution_count": 33,
   "metadata": {},
   "outputs": [
    {
     "data": {
      "text/plain": [
       "0    [Mary, had, little, lamb, little, lamb, little...\n",
       "1    [Hello, Bayes, fine, morning, for, regular, ex...\n",
       "2                        [The, plural, regex, regrets]\n",
       "3                       [Python, fine, fine, language]\n",
       "dtype: object"
      ]
     },
     "execution_count": 33,
     "metadata": {},
     "output_type": "execute_result"
    }
   ],
   "source": [
    "sentences.str.findall(r'\\b\\w{3,}\\b')"
   ]
  },
  {
   "cell_type": "code",
   "execution_count": 34,
   "metadata": {},
   "outputs": [
    {
     "name": "stderr",
     "output_type": "stream",
     "text": [
      "/usr/local/anaconda3/lib/python3.7/site-packages/ipykernel_launcher.py:1: UserWarning: This pattern has match groups. To actually get the groups, use str.extract.\n",
      "  \"\"\"Entry point for launching an IPython kernel.\n"
     ]
    },
    {
     "data": {
      "text/plain": [
       "0    Mary had a little lamb, little lamb, little lamb\n",
       "3                    Python is a fine, fine language.\n",
       "dtype: object"
      ]
     },
     "execution_count": 34,
     "metadata": {},
     "output_type": "execute_result"
    }
   ],
   "source": [
    "sentences[sentences.str.contains(r'(\\b\\w{3,}\\b).*\\1')]"
   ]
  },
  {
   "cell_type": "code",
   "execution_count": null,
   "metadata": {},
   "outputs": [],
   "source": []
  }
 ],
 "metadata": {
  "kernelspec": {
   "display_name": "Python 3",
   "language": "python",
   "name": "python3"
  },
  "language_info": {
   "codemirror_mode": {
    "name": "ipython",
    "version": 3
   },
   "file_extension": ".py",
   "mimetype": "text/x-python",
   "name": "python",
   "nbconvert_exporter": "python",
   "pygments_lexer": "ipython3",
   "version": "3.7.3"
  }
 },
 "nbformat": 4,
 "nbformat_minor": 2
}
