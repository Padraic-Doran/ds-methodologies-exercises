{
 "cells": [
  {
   "cell_type": "code",
   "execution_count": null,
   "metadata": {},
   "outputs": [],
   "source": [
    "def get_db_url(db):\n",
    "    return f'mysql+pymysql://{env.user}:{env.password}@{env.host}/{db}'\n",
    "\n",
    "    \n",
    "def write_csv_of_data():\n",
    "    df = get_zillow_data()\n",
    "    df.to_csv(\"./iris_db.csv\")\n",
    "\n",
    "def read_csv_of_data():\n",
    "    return \n",
    "\n",
    "def get_iris_data_from_mysql():\n",
    "   \n",
    "    # Use a double \"%\" in order to escape %'s default string formatting behavior.\n",
    "    query = '''select * from measurements\n",
    "Join species using (species_id);\n",
    "    '''\n",
    "\n",
    "    url = get_url(\"iris_db\") \n",
    "    df = pd.read_sql(query, url)\n",
    "    return df\n",
    "\n",
    "def get_iris_data():\n",
    "    \"\"\"\n",
    "        reads from .csv or issues slq query, writes that sql as a .csv, and returns the data.\n",
    "    \"\"\"\n",
    "    filename = \"./iris_db.csv\"\n",
    "    if path.exists(filename):\n",
    "        print(f'Reading data from {filename}')\n",
    "    else:\n",
    "        print(f'Reading data from query, writing to {filename}, and returning the dataframe')\n",
    "        write_csv_of_data()\n",
    "\n",
    "    # Return the dataframe read from the csv\n",
    "    return pd.read_csv(filename)\n",
    "\n",
    "# def clean_iris_data(df):\n",
    "#     df = df.dropna()\n",
    "#     df = df[df.bathroom_count > 0]\n",
    "#     df = df[df.bedroom_count > 0]\n",
    "#     return df\n",
    "\n",
    "\n",
    "# def wrangle_iris():\n",
    "#     df = get_iris_data()\n",
    "#     df = clean_data(df)\n",
    "#     return df\n"
   ]
  }
 ],
 "metadata": {
  "kernelspec": {
   "display_name": "Python 3",
   "language": "python",
   "name": "python3"
  },
  "language_info": {
   "codemirror_mode": {
    "name": "ipython",
    "version": 3
   },
   "file_extension": ".py",
   "mimetype": "text/x-python",
   "name": "python",
   "nbconvert_exporter": "python",
   "pygments_lexer": "ipython3",
   "version": "3.7.3"
  }
 },
 "nbformat": 4,
 "nbformat_minor": 2
}
