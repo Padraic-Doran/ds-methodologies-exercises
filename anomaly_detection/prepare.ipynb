{
 "cells": [
  {
   "cell_type": "code",
   "execution_count": 2,
   "metadata": {},
   "outputs": [],
   "source": [
    "import pandas as pd\n",
    "\n",
    "def prepare_the_data(df):\n",
    "    '''\n",
    "    Prepares the data from anonymized-curriculum-access.txt\n",
    "    '''\n",
    "    \n",
    "    # change column names\n",
    "    df = df.rename(columns={0:'date', 1: 'time', 2: 'http', 3: 'person', 4: 'group', 5: 'ipaddress'})\n",
    "    \n",
    "    # create timestamp column\n",
    "    df['timestamp'] = df['date'] + ' ' + df['time']\n",
    "    \n",
    "    # set timestamp to date time\n",
    "    df.timestamp = pd.to_datetime(df.timestamp)\n",
    "    \n",
    "    # set timestamp to index\n",
    "    df = df.set_index('timestamp')\n",
    "    \n",
    "    # drop extra columns\n",
    "    df = df.drop(columns=['date','time'])\n",
    "    \n",
    "    # fill missing values with 0\n",
    "    df = df.fillna(0)\n",
    "    return df"
   ]
  },
  {
   "cell_type": "code",
   "execution_count": null,
   "metadata": {},
   "outputs": [],
   "source": []
  }
 ],
 "metadata": {
  "kernelspec": {
   "display_name": "Python 3",
   "language": "python",
   "name": "python3"
  },
  "language_info": {
   "codemirror_mode": {
    "name": "ipython",
    "version": 3
   },
   "file_extension": ".py",
   "mimetype": "text/x-python",
   "name": "python",
   "nbconvert_exporter": "python",
   "pygments_lexer": "ipython3",
   "version": "3.7.3"
  }
 },
 "nbformat": 4,
 "nbformat_minor": 2
}
