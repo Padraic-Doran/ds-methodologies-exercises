{
 "cells": [
  {
   "cell_type": "code",
   "execution_count": 1,
   "metadata": {},
   "outputs": [
    {
     "name": "stdout",
     "output_type": "stream",
     "text": [
      "{'Floor': 6, 'Instructors': [{'name': 'Ryan', 'favoriteLanguages': ['python', 'clojure']}, {'name': 'Maggie', 'favoriteLanguages': ['python', 'R', 'java']}, {'name': 'David', 'favoriteLanguages': ['python', 'matlab']}, {'name': 'Zach', 'favoriteLanguages': ['python', 'bash']}], 'Location': 'Blanco', 'Students': [{'name': 'Sally', 'examGrades': [62, 85, 80]}, {'name': 'Jane', 'examGrades': [88, 79, 67]}, {'name': 'Suzie', 'examGrades': [94, 74, 95]}, {'name': 'Billy', 'examGrades': [98, 96, 88]}, {'name': 'Ada', 'examGrades': [77, 92, 98]}, {'name': 'John', 'examGrades': [79, 76, 93]}, {'name': 'Thomas', 'examGrades': [82, 64, 81]}, {'name': 'Marie', 'examGrades': [93, 63, 90]}, {'name': 'Albert', 'examGrades': [92, 62, 87]}, {'name': 'Richard', 'examGrades': [69, 80, 94]}, {'name': 'Isaac', 'examGrades': [92, 99, 93]}, {'name': 'Alan', 'examGrades': [92, 62, 72]}], 'isActive': True}\n"
     ]
    }
   ],
   "source": [
    "import json\n",
    "\n",
    "with open('./bayes.json') as f:\n",
    "    bayes = json.load(f)\n",
    "\n",
    "print(bayes)"
   ]
  },
  {
   "cell_type": "markdown",
   "metadata": {},
   "source": [
    "__Print out a message that gives the location of the class using the location and the floor properties.__"
   ]
  },
  {
   "cell_type": "code",
   "execution_count": 12,
   "metadata": {},
   "outputs": [
    {
     "name": "stdout",
     "output_type": "stream",
     "text": [
      "Blanco\n"
     ]
    }
   ],
   "source": [
    "print(bayes['Location'])\n",
    "print('The bayes class is located on the {}th floor in the {} classroom'.format(floor, classroom)"
   ]
  },
  {
   "cell_type": "markdown",
   "metadata": {},
   "source": [
    "__If the class is active, print a message that says so.__"
   ]
  },
  {
   "cell_type": "code",
   "execution_count": 14,
   "metadata": {},
   "outputs": [
    {
     "data": {
      "text/plain": [
       "dict_keys(['Floor', 'Instructors', 'Location', 'Students', 'isActive'])"
      ]
     },
     "execution_count": 14,
     "metadata": {},
     "output_type": "execute_result"
    }
   ],
   "source": [
    "bayes.keys()"
   ]
  },
  {
   "cell_type": "code",
   "execution_count": 30,
   "metadata": {},
   "outputs": [
    {
     "name": "stdout",
     "output_type": "stream",
     "text": [
      "This class is active\n"
     ]
    },
    {
     "data": {
      "text/plain": [
       "bool"
      ]
     },
     "execution_count": 30,
     "metadata": {},
     "output_type": "execute_result"
    }
   ],
   "source": [
    "\n",
    "    if bayes['isActive'] == True:\n",
    "        print('This class is active')\n",
    "    else:\n",
    "        print('This class is not active')\n",
    "        \n"
   ]
  },
  {
   "cell_type": "markdown",
   "metadata": {},
   "source": [
    "__Print out the number of students and number of instructors.__"
   ]
  },
  {
   "cell_type": "code",
   "execution_count": 22,
   "metadata": {},
   "outputs": [
    {
     "name": "stdout",
     "output_type": "stream",
     "text": [
      "12\n",
      "4\n"
     ]
    }
   ],
   "source": [
    "print(len(bayes['Students']))\n",
    "print(len(bayes['Instructors']))"
   ]
  },
  {
   "cell_type": "markdown",
   "metadata": {},
   "source": [
    "__Print out the name of the instructor that has the most favorite languages.__"
   ]
  },
  {
   "cell_type": "code",
   "execution_count": 29,
   "metadata": {},
   "outputs": [
    {
     "data": {
      "text/plain": [
       "['python', 'bash']"
      ]
     },
     "execution_count": 29,
     "metadata": {},
     "output_type": "execute_result"
    }
   ],
   "source": [
    "instructors = bayes[]"
   ]
  },
  {
   "cell_type": "code",
   "execution_count": null,
   "metadata": {},
   "outputs": [],
   "source": [
    "for i in bayes['Instructors']"
   ]
  }
 ],
 "metadata": {
  "kernelspec": {
   "display_name": "Python 3",
   "language": "python",
   "name": "python3"
  },
  "language_info": {
   "codemirror_mode": {
    "name": "ipython",
    "version": 3
   },
   "file_extension": ".py",
   "mimetype": "text/x-python",
   "name": "python",
   "nbconvert_exporter": "python",
   "pygments_lexer": "ipython3",
   "version": "3.7.3"
  }
 },
 "nbformat": 4,
 "nbformat_minor": 2
}
