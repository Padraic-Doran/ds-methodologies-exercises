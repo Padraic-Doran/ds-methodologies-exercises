{
 "cells": [
  {
   "cell_type": "code",
   "execution_count": 2,
   "metadata": {},
   "outputs": [],
   "source": [
    "import multiprocessing\n",
    "import pyspark\n",
    "import pandas as pd\n",
    "import numpy as np\n",
    "np.random.seed(13)\n",
    "from pyspark.sql.functions import lit\n",
    "from pydataset import data\n",
    "import pydataset\n",
    "from pyspark.sql.functions import min,max,avg,sum,concat, lit\n",
    "from pyspark.sql.functions import when\n",
    "import pyspark\n",
    "spark = pyspark.sql.SparkSession.builder.getOrCreate()\n",
    "import pandas as pd\n",
    "from pydataset import data\n",
    "from vega_datasets import data as v_data\n",
    "import pyspark.sql.functions as F"
   ]
  },
  {
   "cell_type": "code",
   "execution_count": 3,
   "metadata": {},
   "outputs": [],
   "source": [
    "spark = pyspark.sql.SparkSession.builder.getOrCreate()"
   ]
  },
  {
   "cell_type": "code",
   "execution_count": 4,
   "metadata": {},
   "outputs": [],
   "source": [
    "np.random.seed(456)\n",
    "\n",
    "pandas_dataframe = pd.DataFrame(dict(n=np.arange(20)))\n",
    "\n",
    "df = spark.createDataFrame(pandas_dataframe)\n",
    "\n",
    "spark = pyspark.sql.SparkSession.builder.getOrCreate()"
   ]
  },
  {
   "cell_type": "code",
   "execution_count": 5,
   "metadata": {},
   "outputs": [
    {
     "data": {
      "text/plain": [
       "DataFrame[language: string]"
      ]
     },
     "execution_count": 5,
     "metadata": {},
     "output_type": "execute_result"
    }
   ],
   "source": [
    "df = spark.createDataFrame(pd.DataFrame(['python', 'java','matlab','sql','javascript','r'], columns=['language']))\n",
    "df"
   ]
  },
  {
   "cell_type": "code",
   "execution_count": 6,
   "metadata": {},
   "outputs": [
    {
     "name": "stdout",
     "output_type": "stream",
     "text": [
      "root\n",
      " |-- language: string (nullable = true)\n",
      "\n"
     ]
    }
   ],
   "source": [
    "df.printSchema()"
   ]
  },
  {
   "cell_type": "code",
   "execution_count": 7,
   "metadata": {},
   "outputs": [
    {
     "data": {
      "text/plain": [
       "(6, 1)"
      ]
     },
     "execution_count": 7,
     "metadata": {},
     "output_type": "execute_result"
    }
   ],
   "source": [
    "df.count(), len(df.columns)"
   ]
  },
  {
   "cell_type": "code",
   "execution_count": 8,
   "metadata": {},
   "outputs": [
    {
     "name": "stdout",
     "output_type": "stream",
     "text": [
      "+----------+\n",
      "|  language|\n",
      "+----------+\n",
      "|    python|\n",
      "|      java|\n",
      "|    matlab|\n",
      "|       sql|\n",
      "|javascript|\n",
      "+----------+\n",
      "only showing top 5 rows\n",
      "\n"
     ]
    }
   ],
   "source": [
    "df.show(5)"
   ]
  },
  {
   "cell_type": "code",
   "execution_count": 9,
   "metadata": {},
   "outputs": [
    {
     "name": "stdout",
     "output_type": "stream",
     "text": [
      "+------------+------------------+-----+----+---+----------+---+---+---+---+-------+\n",
      "|manufacturer|             model|displ|year|cyl|     trans|drv|cty|hwy| fl|  class|\n",
      "+------------+------------------+-----+----+---+----------+---+---+---+---+-------+\n",
      "|        audi|                a4|  1.8|1999|  4|  auto(l5)|  f| 18| 29|  p|compact|\n",
      "|        audi|                a4|  1.8|1999|  4|manual(m5)|  f| 21| 29|  p|compact|\n",
      "|        audi|                a4|  2.0|2008|  4|manual(m6)|  f| 20| 31|  p|compact|\n",
      "|        audi|                a4|  2.0|2008|  4|  auto(av)|  f| 21| 30|  p|compact|\n",
      "|        audi|                a4|  2.8|1999|  6|  auto(l5)|  f| 16| 26|  p|compact|\n",
      "|        audi|                a4|  2.8|1999|  6|manual(m5)|  f| 18| 26|  p|compact|\n",
      "|        audi|                a4|  3.1|2008|  6|  auto(av)|  f| 18| 27|  p|compact|\n",
      "|        audi|        a4 quattro|  1.8|1999|  4|manual(m5)|  4| 18| 26|  p|compact|\n",
      "|        audi|        a4 quattro|  1.8|1999|  4|  auto(l5)|  4| 16| 25|  p|compact|\n",
      "|        audi|        a4 quattro|  2.0|2008|  4|manual(m6)|  4| 20| 28|  p|compact|\n",
      "|        audi|        a4 quattro|  2.0|2008|  4|  auto(s6)|  4| 19| 27|  p|compact|\n",
      "|        audi|        a4 quattro|  2.8|1999|  6|  auto(l5)|  4| 15| 25|  p|compact|\n",
      "|        audi|        a4 quattro|  2.8|1999|  6|manual(m5)|  4| 17| 25|  p|compact|\n",
      "|        audi|        a4 quattro|  3.1|2008|  6|  auto(s6)|  4| 17| 25|  p|compact|\n",
      "|        audi|        a4 quattro|  3.1|2008|  6|manual(m6)|  4| 15| 25|  p|compact|\n",
      "|        audi|        a6 quattro|  2.8|1999|  6|  auto(l5)|  4| 15| 24|  p|midsize|\n",
      "|        audi|        a6 quattro|  3.1|2008|  6|  auto(s6)|  4| 17| 25|  p|midsize|\n",
      "|        audi|        a6 quattro|  4.2|2008|  8|  auto(s6)|  4| 16| 23|  p|midsize|\n",
      "|   chevrolet|c1500 suburban 2wd|  5.3|2008|  8|  auto(l4)|  r| 14| 20|  r|    suv|\n",
      "|   chevrolet|c1500 suburban 2wd|  5.3|2008|  8|  auto(l4)|  r| 11| 15|  e|    suv|\n",
      "+------------+------------------+-----+----+---+----------+---+---+---+---+-------+\n",
      "only showing top 20 rows\n",
      "\n"
     ]
    }
   ],
   "source": [
    "\n",
    "mpg = spark.createDataFrame(data('mpg'))\n",
    "mpg.show()"
   ]
  },
  {
   "cell_type": "code",
   "execution_count": 10,
   "metadata": {},
   "outputs": [
    {
     "name": "stdout",
     "output_type": "stream",
     "text": [
      "+-----------------------------------------+\n",
      "|description                              |\n",
      "+-----------------------------------------+\n",
      "|The 1999 audi a4 has a 4 cylinder engine.|\n",
      "|The 1999 audi a4 has a 4 cylinder engine.|\n",
      "|The 2008 audi a4 has a 4 cylinder engine.|\n",
      "|The 2008 audi a4 has a 4 cylinder engine.|\n",
      "|The 1999 audi a4 has a 6 cylinder engine.|\n",
      "+-----------------------------------------+\n",
      "only showing top 5 rows\n",
      "\n"
     ]
    }
   ],
   "source": [
    "sentence = F.concat(F.lit('The '), \n",
    "                    mpg.year, F.lit(' '), \n",
    "                    mpg.manufacturer, \n",
    "                    F.lit(' '), \n",
    "                    mpg.model, \n",
    "                    F.lit(' has a '), \n",
    "                    mpg.cyl,\n",
    "                    F.lit(' cylinder engine.')).alias('description')\n",
    "mpg.select(sentence).show(5,truncate=False)"
   ]
  },
  {
   "cell_type": "code",
   "execution_count": 11,
   "metadata": {},
   "outputs": [
    {
     "name": "stdout",
     "output_type": "stream",
     "text": [
      "+------------+\n",
      "|simple_trans|\n",
      "+------------+\n",
      "|        auto|\n",
      "|      manual|\n",
      "|      manual|\n",
      "|        auto|\n",
      "|        auto|\n",
      "+------------+\n",
      "only showing top 5 rows\n",
      "\n",
      "+------------+----------+-----+----+---+---+---+---+---+-------+---------+\n",
      "|manufacturer|     model|displ|year|cyl|drv|cty|hwy| fl|  class|transtype|\n",
      "+------------+----------+-----+----+---+---+---+---+---+-------+---------+\n",
      "|        audi|        a4|  1.8|1999|  4|  f| 18| 29|  p|compact|     auto|\n",
      "|        audi|        a4|  1.8|1999|  4|  f| 21| 29|  p|compact|   manual|\n",
      "|        audi|        a4|  2.0|2008|  4|  f| 20| 31|  p|compact|   manual|\n",
      "|        audi|        a4|  2.0|2008|  4|  f| 21| 30|  p|compact|     auto|\n",
      "|        audi|        a4|  2.8|1999|  6|  f| 16| 26|  p|compact|     auto|\n",
      "|        audi|        a4|  2.8|1999|  6|  f| 18| 26|  p|compact|   manual|\n",
      "|        audi|        a4|  3.1|2008|  6|  f| 18| 27|  p|compact|     auto|\n",
      "|        audi|a4 quattro|  1.8|1999|  4|  4| 18| 26|  p|compact|   manual|\n",
      "|        audi|a4 quattro|  1.8|1999|  4|  4| 16| 25|  p|compact|     auto|\n",
      "|        audi|a4 quattro|  2.0|2008|  4|  4| 20| 28|  p|compact|   manual|\n",
      "+------------+----------+-----+----+---+---+---+---+---+-------+---------+\n",
      "only showing top 10 rows\n",
      "\n"
     ]
    }
   ],
   "source": [
    "simple_trans = F.regexp_extract(mpg.trans, \n",
    "                                r'(^\\w+?)\\(.*\\)', \n",
    "                                1).alias('simple_trans')\n",
    "mpg.select(simple_trans).show(5)\n",
    "\n",
    "\n",
    "\n",
    "\n",
    "(mpg.select(\n",
    "    '*', (\n",
    "        F.when(mpg.trans.like('auto%'), 'auto')\n",
    "        .when(mpg.trans.like('manual%'), 'manual')\n",
    "        .otherwise('unknown')\n",
    "        .alias('transtype')))\n",
    "    .drop('trans')).show(10)"
   ]
  },
  {
   "cell_type": "code",
   "execution_count": 12,
   "metadata": {},
   "outputs": [
    {
     "name": "stdout",
     "output_type": "stream",
     "text": [
      "+----------+----+------+------+---+------+----+\n",
      "|total_bill| tip|   sex|smoker|day|  time|size|\n",
      "+----------+----+------+------+---+------+----+\n",
      "|     16.99|1.01|Female|    No|Sun|Dinner|   2|\n",
      "|     10.34|1.66|  Male|    No|Sun|Dinner|   3|\n",
      "|     21.01| 3.5|  Male|    No|Sun|Dinner|   3|\n",
      "|     23.68|3.31|  Male|    No|Sun|Dinner|   2|\n",
      "|     24.59|3.61|Female|    No|Sun|Dinner|   4|\n",
      "+----------+----+------+------+---+------+----+\n",
      "only showing top 5 rows\n",
      "\n"
     ]
    }
   ],
   "source": [
    "tips = spark.createDataFrame(data('tips'))\n",
    "tips.show(5)"
   ]
  },
  {
   "cell_type": "code",
   "execution_count": 13,
   "metadata": {},
   "outputs": [
    {
     "name": "stdout",
     "output_type": "stream",
     "text": [
      "+-----------------------------------------------+\n",
      "|avg(CASE WHEN (smoker = Yes) THEN 1 ELSE 0 END)|\n",
      "+-----------------------------------------------+\n",
      "|                            0.38114754098360654|\n",
      "+-----------------------------------------------+\n",
      "\n"
     ]
    }
   ],
   "source": [
    "smoke_or_no = F.when(tips.smoker == 'Yes', 1).otherwise(0) \n",
    "smoke_or_no\n",
    "tips.select(F.mean(smoke_or_no)).show()"
   ]
  },
  {
   "cell_type": "code",
   "execution_count": 14,
   "metadata": {},
   "outputs": [
    {
     "name": "stdout",
     "output_type": "stream",
     "text": [
      "+----------+----+-------+\n",
      "|total_bill| tip|tip_pct|\n",
      "+----------+----+-------+\n",
      "|     16.99|1.01| 0.0594|\n",
      "|     10.34|1.66| 0.1605|\n",
      "|     21.01| 3.5| 0.1666|\n",
      "|     23.68|3.31| 0.1398|\n",
      "|     24.59|3.61| 0.1468|\n",
      "+----------+----+-------+\n",
      "only showing top 5 rows\n",
      "\n"
     ]
    }
   ],
   "source": [
    "\n",
    "tip_pct = F.round((tips.tip/tips.total_bill),4).alias('tip_pct')\n",
    "tips.select('total_bill', 'tip',tip_pct).show(5)"
   ]
  },
  {
   "cell_type": "code",
   "execution_count": 15,
   "metadata": {},
   "outputs": [
    {
     "name": "stdout",
     "output_type": "stream",
     "text": [
      "+------+-------------------+-------------------+\n",
      "|smoker|             Female|               Male|\n",
      "+------+-------------------+-------------------+\n",
      "|    No| 0.1569111111111111| 0.1606659793814433|\n",
      "|   Yes|0.18214545454545455|0.15276666666666663|\n",
      "+------+-------------------+-------------------+\n",
      "\n"
     ]
    }
   ],
   "source": [
    "tips.select('sex','smoker',tip_pct).groupBy('smoker').pivot('sex').agg(F.mean('tip_pct')).show()"
   ]
  },
  {
   "cell_type": "code",
   "execution_count": 16,
   "metadata": {},
   "outputs": [
    {
     "name": "stdout",
     "output_type": "stream",
     "text": [
      "+----------+-------------+--------+--------+----+-------+\n",
      "|      date|precipitation|temp_max|temp_min|wind|weather|\n",
      "+----------+-------------+--------+--------+----+-------+\n",
      "|2012-01-01|          0.0|    12.8|     5.0| 4.7|drizzle|\n",
      "|2012-01-02|         10.9|    10.6|     2.8| 4.5|   rain|\n",
      "|2012-01-03|          0.8|    11.7|     7.2| 2.3|   rain|\n",
      "|2012-01-04|         20.3|    12.2|     5.6| 4.7|   rain|\n",
      "|2012-01-05|          1.3|     8.9|     2.8| 6.1|   rain|\n",
      "+----------+-------------+--------+--------+----+-------+\n",
      "only showing top 5 rows\n",
      "\n"
     ]
    }
   ],
   "source": [
    "weather = v_data.seattle_weather().assign(date=lambda df: df.date.astype(str))\n",
    "weather = spark.createDataFrame(weather)\n",
    "weather.show(5)"
   ]
  },
  {
   "cell_type": "code",
   "execution_count": 17,
   "metadata": {},
   "outputs": [
    {
     "name": "stdout",
     "output_type": "stream",
     "text": [
      "+-----------+-----------+\n",
      "|temp_max(F)|temp_min(F)|\n",
      "+-----------+-----------+\n",
      "|      55.04|       41.0|\n",
      "|      51.08|      37.04|\n",
      "|      53.06|      44.96|\n",
      "|      53.96|      42.08|\n",
      "|      48.02|      37.04|\n",
      "+-----------+-----------+\n",
      "only showing top 5 rows\n",
      "\n"
     ]
    }
   ],
   "source": [
    "cel_to_far = lambda x: F.round((x * (9/5) + 32),2)\n",
    "weather.select(cel_to_far(weather.temp_max).alias('temp_max(F)'), cel_to_far(weather.temp_min).alias('temp_min(F)')).show(5)\n"
   ]
  },
  {
   "cell_type": "code",
   "execution_count": 18,
   "metadata": {},
   "outputs": [
    {
     "name": "stdout",
     "output_type": "stream",
     "text": [
      "+-----+-------------------+\n",
      "|month| avg(precipitation)|\n",
      "+-----+-------------------+\n",
      "|   07| 1.8785714285714286|\n",
      "|   11|               8.42|\n",
      "|   01|  6.614285714285714|\n",
      "|   09|0.22499999999999998|\n",
      "|   05| 3.2624999999999997|\n",
      "+-----+-------------------+\n",
      "only showing top 5 rows\n",
      "\n"
     ]
    }
   ],
   "source": [
    "month = F.regexp_extract(weather.date, r'(\\w+?)\\-(\\w\\w)\\-\\w\\w', 2).alias('month')\n",
    "weather.select(month, 'precipitation')\\\n",
    "       .where(weather.weather== 'rain')\\\n",
    "       .groupBy('month')\\\n",
    "       .mean()\\\n",
    "       .show(5)"
   ]
  },
  {
   "cell_type": "code",
   "execution_count": 19,
   "metadata": {},
   "outputs": [
    {
     "name": "stdout",
     "output_type": "stream",
     "text": [
      "+----+-----------------+\n",
      "|year|        avg(wind)|\n",
      "+----+-----------------+\n",
      "|2012|3.400819672131147|\n",
      "+----+-----------------+\n",
      "only showing top 1 row\n",
      "\n"
     ]
    }
   ],
   "source": [
    "year = F.regexp_extract(weather.date, r'(\\w+?)\\-(\\w\\w)\\-\\w\\w', 1).alias('year')\n",
    "weather.select(year, 'wind').groupBy('year').mean().orderBy(F.desc('avg(wind)')).show(1)"
   ]
  },
  {
   "cell_type": "code",
   "execution_count": 20,
   "metadata": {},
   "outputs": [
    {
     "name": "stdout",
     "output_type": "stream",
     "text": [
      "+-------+-----+\n",
      "|weather|count|\n",
      "+-------+-----+\n",
      "|    fog|   38|\n",
      "+-------+-----+\n",
      "only showing top 1 row\n",
      "\n"
     ]
    }
   ],
   "source": [
    "weather.select(month, 'weather').where(month == '01').groupBy('weather').count().orderBy(F.desc('count')).show(1)"
   ]
  },
  {
   "cell_type": "code",
   "execution_count": 21,
   "metadata": {},
   "outputs": [
    {
     "name": "stdout",
     "output_type": "stream",
     "text": [
      "+-----------------+------------------+\n",
      "|    avg(temp_max)|     avg(temp_min)|\n",
      "+-----------------+------------------+\n",
      "|26.49677419354839|14.179032258064519|\n",
      "+-----------------+------------------+\n",
      "\n"
     ]
    }
   ],
   "source": [
    "weather.select('temp_max','temp_min')\\\n",
    "       .where((month == '07')&\n",
    "             ((year == '2013')|\n",
    "              (year == '2014')))\\\n",
    "       .select(F.mean('temp_max'),F.mean('temp_min'))\\\n",
    "       .show()"
   ]
  },
  {
   "cell_type": "code",
   "execution_count": 22,
   "metadata": {},
   "outputs": [
    {
     "name": "stdout",
     "output_type": "stream",
     "text": [
      "+-------------------------------------------------+\n",
      "|avg(CASE WHEN (weather = rain) THEN 1 ELSE 0 END)|\n",
      "+-------------------------------------------------+\n",
      "|                              0.17727583846680356|\n",
      "+-------------------------------------------------+\n",
      "\n"
     ]
    }
   ],
   "source": [
    "rainy_days =  F.when(weather.filter((year == '2015')&\n",
    "                                   ((month == '07' )|\n",
    "                                    (month == '08' )|\n",
    "                                    (month == '09'))).weather == 'rain', 1)\\\n",
    "                            .otherwise(0)\n",
    "weather.select(F.mean(rainy_days)).show()"
   ]
  },
  {
   "cell_type": "code",
   "execution_count": 24,
   "metadata": {},
   "outputs": [
    {
     "name": "stdout",
     "output_type": "stream",
     "text": [
      "+----+-------------------+\n",
      "|year|        avg(rained)|\n",
      "+----+-------------------+\n",
      "|2012|0.48360655737704916|\n",
      "|2014|  0.410958904109589|\n",
      "|2013|0.41643835616438357|\n",
      "|2015|0.39452054794520547|\n",
      "+----+-------------------+\n",
      "\n"
     ]
    }
   ],
   "source": [
    "rained_or_not = F.when(weather.precipitation != '0', 1).otherwise(0).alias('rained')\n",
    "weather.select('*', rained_or_not).groupBy(year).agg(F.mean('rained')).show()"
   ]
  },
  {
   "cell_type": "code",
   "execution_count": null,
   "metadata": {},
   "outputs": [],
   "source": []
  }
 ],
 "metadata": {
  "kernelspec": {
   "display_name": "Python 3",
   "language": "python",
   "name": "python3"
  },
  "language_info": {
   "codemirror_mode": {
    "name": "ipython",
    "version": 3
   },
   "file_extension": ".py",
   "mimetype": "text/x-python",
   "name": "python",
   "nbconvert_exporter": "python",
   "pygments_lexer": "ipython3",
   "version": "3.7.3"
  }
 },
 "nbformat": 4,
 "nbformat_minor": 2
}
